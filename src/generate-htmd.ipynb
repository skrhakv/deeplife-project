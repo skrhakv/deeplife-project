{
 "cells": [
  {
   "cell_type": "code",
   "execution_count": null,
   "metadata": {},
   "outputs": [],
   "source": [
    "# TAKES AUTH_ AS AN INPUT!!!\n",
    "import numpy as np\n",
    "import os\n",
    "import json\n",
    "from moleculekit.tools.atomtyper import metal_atypes\n",
    "from moleculekit.molecule import Molecule\n",
    "from moleculekit.tools.voxeldescriptors import getVoxelDescriptors\n",
    "from moleculekit.tools.atomtyper import prepareProteinForAtomtyping\n",
    "import deeplife_utils\n",
    "from htmd.ui import *\n",
    "\n"
   ]
  },
  {
   "cell_type": "code",
   "execution_count": null,
   "metadata": {},
   "outputs": [],
   "source": [
    "# First let's read our two favourite protein and ligand structures\n",
    "prot = Molecule( '3PTB')\n",
    "\n",
    "prot.filter('protein')\n",
    "\n",
    "prot = prepareProteinForAtomtyping(prot)\n",
    "prot_vox, prot_centers, prot_N = getVoxelDescriptors(prot, buffer=8)"
   ]
  },
  {
   "cell_type": "code",
   "execution_count": null,
   "metadata": {},
   "outputs": [],
   "source": [
    "prot = Molecule('5SXR', validateElements=False)\n",
    "\n",
    "# proof that it takes auth_ version as an input (here auth_seq_id)\n",
    "print(prot.get('resid', sel='chain A and protein'))\n",
    "\n",
    "prot = Molecule('1S00', validateElements=False)\n",
    "\n",
    "# proof that it takes auth_ version as an input (here auth_asym_id)\n",
    "prot.filter(f'protein')\n",
    "print(prot.get('chain', sel='protein'))\n"
   ]
  },
  {
   "cell_type": "code",
   "execution_count": null,
   "metadata": {},
   "outputs": [],
   "source": [
    "prot = Molecule('3wa2', validateElements=False)\n",
    "chain_id = 'X'\n",
    "prot.filter(f'chain {chain_id} and protein')\n",
    "print(len(set(prot.get('resid', sel=f'chain {chain_id} and protein'))))\n",
    "\n",
    "sequence = \"\"\n",
    "previous_id = float('-inf')\n",
    "for id, residue in zip(prot.get('resid', sel=f'chain {chain_id} and protein'), prot.get('resname', sel=f'chain {chain_id} and protein')):\n",
    "    if previous_id == id:\n",
    "        continue\n",
    "    else:\n",
    "        sequence += deeplife_utils.three_to_one(residue)\n",
    "    previous_id = id\n",
    "print(sequence)\n",
    "print(len(sequence))"
   ]
  },
  {
   "cell_type": "markdown",
   "metadata": {},
   "source": [
    "### GENERATE VOXELS FOR HOLO STRUCTURES\n",
    "I am not picking every holo structure - only those, whose pockets are less than 75% similar with the other pockets in the scope of current APO structure."
   ]
  },
  {
   "cell_type": "code",
   "execution_count": null,
   "metadata": {},
   "outputs": [],
   "source": [
    "def generate_voxels(pdb_id, chain_id, pocket, voxel_features_path, voxel_annotations_path):\n",
    "    binding_residues = [residue.split('_')[1] for residue in pocket]\n",
    "    binding_residues_query = f'resid {\" or resid \".join(binding_residues)}'\n",
    "    \n",
    "    try:\n",
    "        prot = Molecule(pdb_id, validateElements=False)\n",
    "        prot.filter(f'chain {chain_id} and protein')\n",
    "        prot = prepareProteinForAtomtyping(prot)\n",
    "        prot.filter(f\"protein or water or element {' '.join(metal_atypes)}\")\n",
    "\n",
    "        prot_voxels, _, N = getVoxelDescriptors(prot, buffer=8)\n",
    "        annotation_voxels, _, _ = getVoxelDescriptors(prot, buffer=8, userchannels=prot.atomselect(binding_residues_query).reshape(-1,1))\n",
    "    except:\n",
    "        return False\n",
    "            \n",
    "    features = prot_voxels.reshape(N[0], N[1], N[2], prot_voxels.shape[1])\n",
    "    annotations = annotation_voxels.reshape(N[0], N[1], N[2], annotation_voxels.shape[1])\n",
    "    \n",
    "    with open(f'{voxel_features_path}/{pdb_id.lower()}{chain_id.upper()}.npy', 'wb') as f:\n",
    "        np.save(f, features)\n",
    "    with open(f'{voxel_annotations_path}/{pdb_id.lower()}{chain_id.upper()}.npy', 'wb') as f:\n",
    "        np.save(f, annotations)\n",
    "    return True"
   ]
  },
  {
   "cell_type": "code",
   "execution_count": null,
   "metadata": {},
   "outputs": [],
   "source": [
    "HOLO_VOXEL_FEATURES_PATH = '../data/holo-voxel-features'\n",
    "HOLO_VOXEL_ANNOTATIONS_PATH = '../data/holo-voxel-annotations'\n",
    "\n",
    "# generate voxels for the HOLOs\n",
    "with open(f'../cryptobench/whole_dataset.json', 'r') as json_file:\n",
    "    dataset = json.load(json_file)\n",
    "\n",
    "for apo_structure, holo_structures in dataset.items():\n",
    "    apo_pockets = set()    \n",
    "    for holo_structure in holo_structures:\n",
    "        \n",
    "        pdb_id = holo_structure['holo_pdb_id']\n",
    "        chain_id = holo_structure['holo_chain']\n",
    "        apo_pocket = holo_structure['apo_pocket_selection']\n",
    "        pocket = holo_structure['holo_pocket_selection']\n",
    "        id = pdb_id.lower() + chain_id.upper()\n",
    "        \n",
    "        # it gets stuck on 5c30. Just skip it, I am too furious to deal with it now\n",
    "        if apo_structure == '5c30':\n",
    "            break\n",
    "\n",
    "        if os.path.isfile(f'{HOLO_VOXEL_FEATURES_PATH}/{pdb_id.lower()}{chain_id.upper()}.npy') \\\n",
    "            and os.path.isfile(f'{HOLO_VOXEL_ANNOTATIONS_PATH}/{pdb_id.lower()}{chain_id.upper()}.npy'):\n",
    "            break\n",
    "        \n",
    "        new_apo_residues = [residue.split('_')[1] for residue in apo_pocket if residue.split('_')[1] not in apo_pockets]\n",
    "        # probably a homomer\n",
    "        if (len(apo_pocket) - len(new_apo_residues)) / len(apo_pocket) > 0.75:\n",
    "            continue\n",
    "        apo_pockets.update(new_apo_residues)\n",
    "\n",
    "        if not generate_voxels(pdb_id, chain_id, pocket, HOLO_VOXEL_FEATURES_PATH, HOLO_VOXEL_ANNOTATIONS_PATH):\n",
    "            continue\n"
   ]
  },
  {
   "cell_type": "markdown",
   "metadata": {},
   "source": [
    "### GENERATE VOXELS FOR APO STRUCTURES\n",
    "This needs to be handled a bit differently. First, all the pockets in the APO need to be ensembled. Then the voxel generation can proceed. \n",
    "\n",
    "Furthermore, only the TEST subset is needed."
   ]
  },
  {
   "cell_type": "code",
   "execution_count": null,
   "metadata": {},
   "outputs": [],
   "source": [
    "APO_VOXEL_FEATURES_PATH = '../data/apo-voxel-features'\n",
    "APO_VOXEL_ANNOTATIONS_PATH = '../data/apo-voxel-annotations'\n",
    "\n",
    "# generate voxels for the HOLOs\n",
    "with open(f'../cryptobench/test/test.json', 'r') as json_file:\n",
    "    dataset = json.load(json_file)\n",
    "\n",
    "for apo_pdb_id, holo_structures in dataset.items():\n",
    "    apo_chain_id = holo_structures[0]['apo_chain']\n",
    "\n",
    "    if os.path.isfile(f'{APO_VOXEL_FEATURES_PATH}/{apo_pdb_id.lower()}{apo_chain_id.upper()}.npy') \\\n",
    "        and os.path.isfile(f'{APO_VOXEL_ANNOTATIONS_PATH}/{apo_pdb_id.lower()}{apo_chain_id.upper()}.npy'):\n",
    "        continue\n",
    "\n",
    "    # collect all the pockets     \n",
    "    apo_pockets = set()    \n",
    "    for holo_structure in holo_structures:\n",
    "        apo_pocket = holo_structure['apo_pocket_selection']\n",
    "        apo_pockets.update(apo_pocket)\n",
    "    \n",
    "    if not generate_voxels(apo_pdb_id, apo_chain_id, list(apo_pockets), APO_VOXEL_FEATURES_PATH, APO_VOXEL_ANNOTATIONS_PATH):\n",
    "        continue\n",
    "    \n"
   ]
  }
 ],
 "metadata": {
  "kernelspec": {
   "display_name": "htmd",
   "language": "python",
   "name": "python3"
  },
  "language_info": {
   "codemirror_mode": {
    "name": "ipython",
    "version": 3
   },
   "file_extension": ".py",
   "mimetype": "text/x-python",
   "name": "python",
   "nbconvert_exporter": "python",
   "pygments_lexer": "ipython3",
   "version": "3.1.undefined"
  }
 },
 "nbformat": 4,
 "nbformat_minor": 4
}
