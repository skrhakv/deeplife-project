{
 "cells": [
  {
   "cell_type": "code",
   "execution_count": 14,
   "metadata": {},
   "outputs": [],
   "source": [
    "from deeplife_utils import get_c_alphas\n",
    "import os\n",
    "\n",
    "DATA_PATH = '/home/vit/Projects/deeplife-project/data'\n"
   ]
  },
  {
   "cell_type": "code",
   "execution_count": null,
   "metadata": {},
   "outputs": [],
   "source": [
    "for (input_path, output_path) in [(f'{DATA_PATH}/apo-sequence-annotations', f'{DATA_PATH}/mapping-seq-to-resid'),\n",
    "                                  (f'{DATA_PATH}/holo-sequence-annotations', f'{DATA_PATH}/mapping-seq-to-resid')]:\n",
    "\n",
    "    results = get_c_alphas(input_path)\n",
    "    os.makedirs(output_path, exist_ok=True)\n",
    "\n",
    "    for id, c_alphas in results.items():\n",
    "        with open(f'{output_path}/{id}.txt', 'w') as f:\n",
    "            for i, c_alpha in enumerate(c_alphas):\n",
    "                f.write(f'{i};{c_alpha.res_id}\\n')\n"
   ]
  }
 ],
 "metadata": {
  "kernelspec": {
   "display_name": "Python 3",
   "language": "python",
   "name": "python3"
  },
  "language_info": {
   "codemirror_mode": {
    "name": "ipython",
    "version": 3
   },
   "file_extension": ".py",
   "mimetype": "text/x-python",
   "name": "python",
   "nbconvert_exporter": "python",
   "pygments_lexer": "ipython3",
   "version": "3.11.6"
  }
 },
 "nbformat": 4,
 "nbformat_minor": 2
}
